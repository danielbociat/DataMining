{
 "cells": [
  {
   "cell_type": "code",
   "execution_count": 1,
   "id": "784bcaa2",
   "metadata": {},
   "outputs": [],
   "source": [
    "import requests\n",
    "from bs4 import BeautifulSoup\n",
    "import json\n",
    "import re"
   ]
  },
  {
   "cell_type": "code",
   "execution_count": 6,
   "id": "ac0c7cb2",
   "metadata": {},
   "outputs": [],
   "source": [
    "def getChapterContent(url, chapter):\n",
    "    page = requests.get(url + str(chapter))\n",
    "    soup = BeautifulSoup(page.content, 'html.parser')\n",
    "    elem = soup.find(\"td\").findAll(text=True, recursive=False)\n",
    "    \n",
    "    \n",
    "    foundTitle = False\n",
    "    text = \"\"\n",
    "    for el in elem:\n",
    "        string = str(el)\n",
    "        \n",
    "        if re.search('[a-zA-Z]', string):\n",
    "            \n",
    "            string = string.replace('\\n', \"\")\n",
    "            string = string.replace('\\t', \"\")\n",
    "            string = string.replace('\\r', \"\")\n",
    "            string = string.replace('\\u3000', \"\")\n",
    "            \n",
    "            if not foundTitle:\n",
    "                title = string\n",
    "                foundTitle = True\n",
    "            else:\n",
    "                text += string\n",
    "    \n",
    "    return title, text"
   ]
  },
  {
   "cell_type": "code",
   "execution_count": 2,
   "id": "ffff5c88",
   "metadata": {},
   "outputs": [],
   "source": [
    "def writeBook(i, url, titles, texts):\n",
    "    json_book = dict()\n",
    "    \n",
    "    json_book[\"url\"] = url\n",
    "    \n",
    "    json_book[\"title\"] = url.split(\"/\")[-1]\n",
    "    json_book[\"title\"] = json_book[\"title\"].split(\"_\")[0]\n",
    "    \n",
    "    json_book[\"no_chapters\"] = len(titles)\n",
    "    json_book[\"titles\"] = titles\n",
    "    json_book[\"content\"] = texts\n",
    "    \n",
    "    print(json_book[\"title\"])\n",
    "    \n",
    "    f = open(\"HarryPotter_Book\"+str(i), \"w\")\n",
    "    f.write(json.dumps(json_book))"
   ]
  },
  {
   "cell_type": "code",
   "execution_count": 3,
   "id": "3a7fbe53",
   "metadata": {},
   "outputs": [],
   "source": [
    "def readBook(i):\n",
    "    g = open(\"HarryPotter_Book\"+str(i), \"r\")\n",
    "    file = g.read().splitlines()[0]\n",
    "    info = json.loads(file)\n",
    "    \n",
    "    return info"
   ]
  },
  {
   "cell_type": "code",
   "execution_count": 5,
   "id": "2910db98",
   "metadata": {},
   "outputs": [],
   "source": [
    "urls = [\n",
    "    'https://thefreeonlinenovel.com/con/harry-potter-and-the-sorcerers-stone_chapter-',\n",
    "    'https://thefreeonlinenovel.com/con/harry-potter-and-the-chamber-of-secrets_page-',\n",
    "    'https://thefreeonlinenovel.com/con/harry-potter-and-the-prisoner-of-azkaban_page-',\n",
    "    'https://thefreeonlinenovel.com/con/harry-potter-and-the-goblet-of-fire_page-',\n",
    "    'https://thefreeonlinenovel.com/con/harry-potter-and-the-order-of-the-phoenix_page-',\n",
    "    'https://thefreeonlinenovel.com/con/harry-potter-and-the-half-blood-prince_page-',\n",
    "    'https://thefreeonlinenovel.com/con/harry-potter-and-the-deathly-hallows_page-'\n",
    "]"
   ]
  },
  {
   "cell_type": "code",
   "execution_count": 6,
   "id": "88beaadf",
   "metadata": {},
   "outputs": [
    {
     "name": "stdout",
     "output_type": "stream",
     "text": [
      "Current chapter:  1\n",
      "Current chapter:  2\n",
      "Current chapter:  3\n",
      "Current chapter:  4\n",
      "Current chapter:  5\n",
      "Current chapter:  6\n",
      "Current chapter:  7\n",
      "Current chapter:  8\n",
      "Current chapter:  9\n",
      "Current chapter:  10\n",
      "Current chapter:  11\n",
      "Current chapter:  12\n",
      "Current chapter:  13\n",
      "Current chapter:  14\n",
      "Current chapter:  15\n",
      "Current chapter:  16\n",
      "Current chapter:  17\n",
      "Current chapter:  18\n",
      "Current chapter:  19\n",
      "Current chapter:  20\n",
      "Current chapter:  21\n",
      "Current chapter:  22\n",
      "Current chapter:  23\n",
      "Current chapter:  24\n",
      "Current chapter:  25\n",
      "Current chapter:  26\n",
      "Current chapter:  27\n",
      "Current chapter:  28\n",
      "Current chapter:  29\n",
      "Current chapter:  30\n",
      "Current chapter:  31\n",
      "Current chapter:  32\n",
      "Current chapter:  33\n",
      "Current chapter:  34\n",
      "Current chapter:  35\n",
      "Current chapter:  36\n",
      "Current chapter:  37\n",
      "Book:  7\n",
      "Total chapters:  37\n",
      "Total words:  203313\n",
      "\n",
      "\n",
      "harry-potter-and-the-deathly-hallows\n"
     ]
    }
   ],
   "source": [
    "for i in range(len(urls)):\n",
    "    url = urls[i]\n",
    "    \n",
    "    all_titles = list()\n",
    "    all_texts = list()\n",
    "    chapter = 1\n",
    "    while True:\n",
    "        try:\n",
    "            title, text = getChapterContent(url, chapter)\n",
    "            all_titles.append(title)\n",
    "            all_texts.append(text)\n",
    "            #print(\"Current chapter: \", chapter)\n",
    "            chapter += 1\n",
    "        except Exception as e:\n",
    "            #print(e)\n",
    "            break\n",
    "    \n",
    "    writeBook(i+1, url, all_titles, all_texts)\n",
    "    print(\"Book: \", i+1)\n",
    "    print(\"Total chapters: \", chapter-1)\n",
    "    word_count = 0\n",
    "    for text in all_texts:\n",
    "        word_count += len(text.split(\" \"))\n",
    "    print(\"Total words: \",word_count)\n",
    "    print(\"\\n\")"
   ]
  },
  {
   "cell_type": "code",
   "execution_count": null,
   "id": "04d6a374",
   "metadata": {},
   "outputs": [],
   "source": []
  }
 ],
 "metadata": {
  "kernelspec": {
   "display_name": "Python 3 (ipykernel)",
   "language": "python",
   "name": "python3"
  },
  "language_info": {
   "codemirror_mode": {
    "name": "ipython",
    "version": 3
   },
   "file_extension": ".py",
   "mimetype": "text/x-python",
   "name": "python",
   "nbconvert_exporter": "python",
   "pygments_lexer": "ipython3",
   "version": "3.7.11"
  }
 },
 "nbformat": 4,
 "nbformat_minor": 5
}
