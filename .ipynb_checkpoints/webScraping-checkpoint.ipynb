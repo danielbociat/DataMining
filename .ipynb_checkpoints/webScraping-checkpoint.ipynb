{
 "cells": [
  {
   "cell_type": "code",
   "execution_count": 1,
   "id": "784bcaa2",
   "metadata": {},
   "outputs": [],
   "source": [
    "import requests\n",
    "from bs4 import BeautifulSoup"
   ]
  },
  {
   "cell_type": "code",
   "execution_count": 3,
   "id": "8b15bddb",
   "metadata": {},
   "outputs": [],
   "source": [
    "URL = 'https://www.onlinereadfreebooks.com/en/Harry-Potter-and-the-Philosophers-Stone/'"
   ]
  },
  {
   "cell_type": "code",
   "execution_count": 50,
   "id": "82f9fbe8",
   "metadata": {},
   "outputs": [
    {
     "name": "stdout",
     "output_type": "stream",
     "text": [
      "18\n"
     ]
    }
   ],
   "source": [
    "chapter = 1\n",
    "URL = 'https://www.onlinereadfreebooks.com/en/Harry-Potter-and-the-Philosophers-Stone/'\n",
    "\n",
    "all_titles = list()\n",
    "all_texts = list()\n",
    "title, text = getChapterContent(URL, chapter)\n",
    "all_titles.append(title)\n",
    "while len(page.text):\n",
    "    chapter += 1\n",
    "    try:\n",
    "        title, text = getChapterContent(URL, chapter)\n",
    "        all_titles.append(title)\n",
    "        all_texts.append(text)\n",
    "        #print(len(title))\n",
    "    except Exception as e:\n",
    "        break\n",
    "    \n",
    "    \n",
    "\n",
    "print(chapter)"
   ]
  },
  {
   "cell_type": "code",
   "execution_count": 45,
   "id": "0bb3986a",
   "metadata": {},
   "outputs": [],
   "source": [
    "def getChapterContent(url, chapter):\n",
    "    page = requests.get(url + str(chapter))\n",
    "    soup = BeautifulSoup(page.content, 'html.parser')\n",
    "    elem = soup.find(id='content-text')\n",
    "    \n",
    "    title = elem.find_all(\"b\")[0].text\n",
    "    all_br = elem.find_all(\"br\")\n",
    "    \n",
    "    for el in all_br:\n",
    "        text = el.text\n",
    "        if len(text):\n",
    "            break\n",
    "    \n",
    "    return title, text"
   ]
  },
  {
   "cell_type": "code",
   "execution_count": 51,
   "id": "f7a05866",
   "metadata": {},
   "outputs": [],
   "source": [
    "word_count = 0\n",
    "\n",
    "for text in all_texts:\n",
    "    word_count += len(text.split(\" \"))"
   ]
  },
  {
   "cell_type": "code",
   "execution_count": 52,
   "id": "9ebd919d",
   "metadata": {},
   "outputs": [
    {
     "data": {
      "text/plain": [
       "79430"
      ]
     },
     "execution_count": 52,
     "metadata": {},
     "output_type": "execute_result"
    }
   ],
   "source": [
    "word_count\n"
   ]
  }
 ],
 "metadata": {
  "kernelspec": {
   "display_name": "Python 3 (ipykernel)",
   "language": "python",
   "name": "python3"
  },
  "language_info": {
   "codemirror_mode": {
    "name": "ipython",
    "version": 3
   },
   "file_extension": ".py",
   "mimetype": "text/x-python",
   "name": "python",
   "nbconvert_exporter": "python",
   "pygments_lexer": "ipython3",
   "version": "3.7.11"
  }
 },
 "nbformat": 4,
 "nbformat_minor": 5
}
